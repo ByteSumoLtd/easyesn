{
 "cells": [
  {
   "cell_type": "code",
   "execution_count": 1,
   "metadata": {
    "collapsed": true
   },
   "outputs": [],
   "source": [
    "import numpy as np\n",
    "\n",
    "# some_file.py\n",
    "import sys\n",
    "sys.path.insert(0, '../src/easyesn/')"
   ]
  },
  {
   "cell_type": "code",
   "execution_count": 2,
   "metadata": {},
   "outputs": [
    {
     "name": "stderr",
     "output_type": "stream",
     "text": [
      "Using Numpy backend.\n"
     ]
    }
   ],
   "source": [
    "from easyesn import SpatioTemporalESN\n",
    "from easyesn.optimizers import GridSearchOptimizer\n",
    "from easyesn import helper as hlp\n",
    "import numpy as np\n",
    "import matplotlib.pyplot as plt\n",
    "\n",
    "from scipy.ndimage.filters import convolve\n",
    "\n",
    "np.random.seed(42)"
   ]
  },
  {
   "cell_type": "code",
   "execution_count": 3,
   "metadata": {
    "collapsed": true
   },
   "outputs": [],
   "source": [
    "inputLength = 1000\n",
    "size = 50\n",
    "\n",
    "data = np.linspace(0, 20*np.pi, inputLength)\n",
    "data = np.repeat(data, size*size).reshape(-1, size, size)\n",
    "\n",
    "freq1 = np.tile(np.random.rand(size, size), (inputLength, 1, 1))*2+1 \n",
    "freq2 = np.tile(np.random.rand(size, size), (inputLength, 1, 1))*2+1\n",
    "\n",
    "inputData = np.sin(freq1*data).reshape(-1, size, size)\n",
    "outputData = np.cos(freq1*data).reshape(-1, size, size)\n",
    "\n",
    "filter1 = np.array([[-1,-1,-1],\n",
    "                   [-1,9,-1],\n",
    "                   [-1,-1,-1]])/9.0\n",
    "\n",
    "for i in range(inputLength):\n",
    "    outputData[i, :, :] = convolve(outputData[i, :, :], filter1)\n",
    "\n",
    "trainingInput = inputData[:int(inputLength*0.7)]\n",
    "validationInput = inputData[int(inputLength*0.3):]\n",
    "\n",
    "trainingOutput = outputData[:int(inputLength*0.7)]\n",
    "validationOutput = outputData[int(inputLength*0.3):]"
   ]
  },
  {
   "cell_type": "code",
   "execution_count": 4,
   "metadata": {
    "collapsed": true
   },
   "outputs": [],
   "source": [
    "#plt.plot(trainingInput[:200, 0,0])\n",
    "#plt.plot(trainingInput[:200, 0,1])\n",
    "#plt.plot(trainingInput[:200, 0,2])\n",
    "#plt.show()\n",
    "\n",
    "#plt.plot(trainingOutput[:200, 0,0])\n",
    "#plt.plot(trainingOutput[:200, 0,1])\n",
    "#plt.plot(trainingOutput[:200, 0,2])\n",
    "#plt.show()"
   ]
  },
  {
   "cell_type": "code",
   "execution_count": 5,
   "metadata": {
    "collapsed": true
   },
   "outputs": [],
   "source": [
    "esn = SpatioTemporalESN(inputShape=(size, size), filterSize=3, stride=1, borderMode=\"mirror\", averageOutputWeights=True,\n",
    "                        n_reservoir=100, regression_parameters=[1e-2], leakingRate=0.2, spectralRadius=0.8, solver=\"lsqr\")"
   ]
  },
  {
   "cell_type": "code",
   "execution_count": 6,
   "metadata": {
    "scrolled": true
   },
   "outputs": [],
   "source": [
    "esn.fit(trainingInput, trainingOutput, transientTime=100, verbose=1)"
   ]
  },
  {
   "cell_type": "code",
   "execution_count": 8,
   "metadata": {
    "collapsed": true
   },
   "outputs": [],
   "source": [
    "prediction = esn.predict(validationInput, transientTime=0, verbose=1)"
   ]
  },
  {
   "cell_type": "code",
   "execution_count": null,
   "metadata": {
    "collapsed": true
   },
   "outputs": [],
   "source": [
    "plt.plot(prediction[:, 48, 20])\n",
    "#plt.plot(validationOutput[:, 0, 0])\n",
    "plt.show()\n",
    "\n",
    "np.mean(prediction)"
   ]
  },
  {
   "cell_type": "code",
   "execution_count": null,
   "metadata": {
    "collapsed": true
   },
   "outputs": [],
   "source": [
    "np.mean((prediction-validationOutput)**2, axis=None)"
   ]
  },
  {
   "cell_type": "code",
   "execution_count": 7,
   "metadata": {},
   "outputs": [
    {
     "data": {
      "text/plain": [
       "array([[-0.21776517, -0.23160711, -0.08902271, -0.06657201, -0.03198176,\n",
       "         0.97526248, -0.08901269, -0.12332577, -0.10674441, -0.22035305,\n",
       "        -0.0297574 ,  0.00713275,  0.14129932,  0.13419346,  0.02673814,\n",
       "         0.03931331,  0.09278676, -0.00693552,  0.05752113,  0.30500012,\n",
       "         0.02276986, -0.05991313,  0.0065816 ,  0.09595953,  0.04888067,\n",
       "        -0.01064464, -0.09717834, -0.03055349, -0.03878397, -0.06007259,\n",
       "         0.28060619, -0.07737388, -0.00835358, -0.13041343,  0.03335606,\n",
       "        -0.06319969,  0.18562258, -0.20584215,  0.06859663, -0.07995034,\n",
       "         0.19006198, -0.07234545, -0.01270077,  0.0592227 ,  0.00397802,\n",
       "         0.09483952, -0.20609116,  0.0518487 , -0.0905249 ,  0.01663222,\n",
       "        -0.02028399, -0.00649596,  0.04190407, -0.01801149, -0.00501378,\n",
       "         0.0780484 , -0.04605494,  0.05720729, -0.0016246 , -0.13150283,\n",
       "        -0.0383095 ,  0.0366072 ,  0.11428047, -0.19908204, -0.11260537,\n",
       "        -0.04877565, -0.30104276,  0.01539599, -0.00419148, -0.09229381,\n",
       "         0.00170238,  0.05319685,  0.06359609, -0.083975  , -0.01736033,\n",
       "        -0.06424243, -0.05350103, -0.12417604, -0.02257065,  0.05238879,\n",
       "        -0.01068275, -0.07391366,  0.02221407,  0.15872725, -0.02232134,\n",
       "         0.0068503 ,  0.12696365, -0.01519121, -0.05149303,  0.16614265,\n",
       "         0.15024459, -0.04329636, -0.07915855,  0.10205015, -0.0590659 ,\n",
       "         0.09178144, -0.01379034, -0.01094028, -0.32512193, -0.08020304,\n",
       "         0.00824537,  0.02022577,  0.03368397, -0.02232493, -0.06729406,\n",
       "         0.06072263, -0.00825408, -0.06809558,  0.01754841, -0.13590638]])"
      ]
     },
     "execution_count": 7,
     "metadata": {},
     "output_type": "execute_result"
    }
   ],
   "source": [
    "esn._WOut"
   ]
  },
  {
   "cell_type": "code",
   "execution_count": null,
   "metadata": {
    "collapsed": true
   },
   "outputs": [],
   "source": []
  }
 ],
 "metadata": {
  "kernelspec": {
   "display_name": "Python 3",
   "language": "python",
   "name": "python3"
  },
  "language_info": {
   "codemirror_mode": {
    "name": "ipython",
    "version": 3
   },
   "file_extension": ".py",
   "mimetype": "text/x-python",
   "name": "python",
   "nbconvert_exporter": "python",
   "pygments_lexer": "ipython3",
   "version": "3.6.3"
  }
 },
 "nbformat": 4,
 "nbformat_minor": 2
}
