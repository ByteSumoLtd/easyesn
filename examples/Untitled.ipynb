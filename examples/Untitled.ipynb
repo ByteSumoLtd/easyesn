{
 "cells": [
  {
   "cell_type": "code",
   "execution_count": 7,
   "metadata": {},
   "outputs": [],
   "source": [
    "import timeit\n",
    "import numpy as np\n",
    "import multiprocessing"
   ]
  },
  {
   "cell_type": "code",
   "execution_count": 8,
   "metadata": {},
   "outputs": [],
   "source": [
    "x = np.arange(100*100)\n",
    "m = multiprocessing.Manager() \n",
    "shared = m.Namespace()\n",
    "shared.x = x"
   ]
  },
  {
   "cell_type": "code",
   "execution_count": 11,
   "metadata": {
    "collapsed": true
   },
   "outputs": [],
   "source": [
    "def func1():\n",
    "    y = x*2\n",
    "    \n",
    "def func2():\n",
    "    y = shared.x*2"
   ]
  },
  {
   "cell_type": "code",
   "execution_count": 15,
   "metadata": {},
   "outputs": [
    {
     "name": "stdout",
     "output_type": "stream",
     "text": [
      "7.15 µs ± 97.6 ns per loop (mean ± std. dev. of 7 runs, 100000 loops each)\n",
      "124 µs ± 5.95 µs per loop (mean ± std. dev. of 7 runs, 10000 loops each)\n"
     ]
    }
   ],
   "source": [
    "%timeit func1()\n",
    "%timeit func2()"
   ]
  },
  {
   "cell_type": "code",
   "execution_count": 36,
   "metadata": {},
   "outputs": [
    {
     "data": {
      "text/plain": [
       "30"
      ]
     },
     "execution_count": 36,
     "metadata": {},
     "output_type": "execute_result"
    }
   ],
   "source": [
    "a = np.arange(2*3*5).reshape(2,3,5)\n",
    "np.prod(a.shape)"
   ]
  },
  {
   "cell_type": "code",
   "execution_count": 31,
   "metadata": {},
   "outputs": [
    {
     "data": {
      "text/plain": [
       "array([[[[[0, 0, 0, 0],\n",
       "          [0, 0, 0, 1],\n",
       "          [0, 0, 0, 2],\n",
       "          [0, 0, 0, 3],\n",
       "          [0, 0, 0, 4]],\n",
       "\n",
       "         [[0, 0, 1, 0],\n",
       "          [0, 0, 1, 1],\n",
       "          [0, 0, 1, 2],\n",
       "          [0, 0, 1, 3],\n",
       "          [0, 0, 1, 4]],\n",
       "\n",
       "         [[0, 0, 2, 0],\n",
       "          [0, 0, 2, 1],\n",
       "          [0, 0, 2, 2],\n",
       "          [0, 0, 2, 3],\n",
       "          [0, 0, 2, 4]],\n",
       "\n",
       "         [[0, 0, 3, 0],\n",
       "          [0, 0, 3, 1],\n",
       "          [0, 0, 3, 2],\n",
       "          [0, 0, 3, 3],\n",
       "          [0, 0, 3, 4]]],\n",
       "\n",
       "\n",
       "        [[[1, 0, 0, 0],\n",
       "          [1, 0, 0, 1],\n",
       "          [1, 0, 0, 2],\n",
       "          [1, 0, 0, 3],\n",
       "          [1, 0, 0, 4]],\n",
       "\n",
       "         [[1, 0, 1, 0],\n",
       "          [1, 0, 1, 1],\n",
       "          [1, 0, 1, 2],\n",
       "          [1, 0, 1, 3],\n",
       "          [1, 0, 1, 4]],\n",
       "\n",
       "         [[1, 0, 2, 0],\n",
       "          [1, 0, 2, 1],\n",
       "          [1, 0, 2, 2],\n",
       "          [1, 0, 2, 3],\n",
       "          [1, 0, 2, 4]],\n",
       "\n",
       "         [[1, 0, 3, 0],\n",
       "          [1, 0, 3, 1],\n",
       "          [1, 0, 3, 2],\n",
       "          [1, 0, 3, 3],\n",
       "          [1, 0, 3, 4]]]],\n",
       "\n",
       "\n",
       "\n",
       "       [[[[0, 1, 0, 0],\n",
       "          [0, 1, 0, 1],\n",
       "          [0, 1, 0, 2],\n",
       "          [0, 1, 0, 3],\n",
       "          [0, 1, 0, 4]],\n",
       "\n",
       "         [[0, 1, 1, 0],\n",
       "          [0, 1, 1, 1],\n",
       "          [0, 1, 1, 2],\n",
       "          [0, 1, 1, 3],\n",
       "          [0, 1, 1, 4]],\n",
       "\n",
       "         [[0, 1, 2, 0],\n",
       "          [0, 1, 2, 1],\n",
       "          [0, 1, 2, 2],\n",
       "          [0, 1, 2, 3],\n",
       "          [0, 1, 2, 4]],\n",
       "\n",
       "         [[0, 1, 3, 0],\n",
       "          [0, 1, 3, 1],\n",
       "          [0, 1, 3, 2],\n",
       "          [0, 1, 3, 3],\n",
       "          [0, 1, 3, 4]]],\n",
       "\n",
       "\n",
       "        [[[1, 1, 0, 0],\n",
       "          [1, 1, 0, 1],\n",
       "          [1, 1, 0, 2],\n",
       "          [1, 1, 0, 3],\n",
       "          [1, 1, 0, 4]],\n",
       "\n",
       "         [[1, 1, 1, 0],\n",
       "          [1, 1, 1, 1],\n",
       "          [1, 1, 1, 2],\n",
       "          [1, 1, 1, 3],\n",
       "          [1, 1, 1, 4]],\n",
       "\n",
       "         [[1, 1, 2, 0],\n",
       "          [1, 1, 2, 1],\n",
       "          [1, 1, 2, 2],\n",
       "          [1, 1, 2, 3],\n",
       "          [1, 1, 2, 4]],\n",
       "\n",
       "         [[1, 1, 3, 0],\n",
       "          [1, 1, 3, 1],\n",
       "          [1, 1, 3, 2],\n",
       "          [1, 1, 3, 3],\n",
       "          [1, 1, 3, 4]]]],\n",
       "\n",
       "\n",
       "\n",
       "       [[[[0, 2, 0, 0],\n",
       "          [0, 2, 0, 1],\n",
       "          [0, 2, 0, 2],\n",
       "          [0, 2, 0, 3],\n",
       "          [0, 2, 0, 4]],\n",
       "\n",
       "         [[0, 2, 1, 0],\n",
       "          [0, 2, 1, 1],\n",
       "          [0, 2, 1, 2],\n",
       "          [0, 2, 1, 3],\n",
       "          [0, 2, 1, 4]],\n",
       "\n",
       "         [[0, 2, 2, 0],\n",
       "          [0, 2, 2, 1],\n",
       "          [0, 2, 2, 2],\n",
       "          [0, 2, 2, 3],\n",
       "          [0, 2, 2, 4]],\n",
       "\n",
       "         [[0, 2, 3, 0],\n",
       "          [0, 2, 3, 1],\n",
       "          [0, 2, 3, 2],\n",
       "          [0, 2, 3, 3],\n",
       "          [0, 2, 3, 4]]],\n",
       "\n",
       "\n",
       "        [[[1, 2, 0, 0],\n",
       "          [1, 2, 0, 1],\n",
       "          [1, 2, 0, 2],\n",
       "          [1, 2, 0, 3],\n",
       "          [1, 2, 0, 4]],\n",
       "\n",
       "         [[1, 2, 1, 0],\n",
       "          [1, 2, 1, 1],\n",
       "          [1, 2, 1, 2],\n",
       "          [1, 2, 1, 3],\n",
       "          [1, 2, 1, 4]],\n",
       "\n",
       "         [[1, 2, 2, 0],\n",
       "          [1, 2, 2, 1],\n",
       "          [1, 2, 2, 2],\n",
       "          [1, 2, 2, 3],\n",
       "          [1, 2, 2, 4]],\n",
       "\n",
       "         [[1, 2, 3, 0],\n",
       "          [1, 2, 3, 1],\n",
       "          [1, 2, 3, 2],\n",
       "          [1, 2, 3, 3],\n",
       "          [1, 2, 3, 4]]]]])"
      ]
     },
     "execution_count": 31,
     "metadata": {},
     "output_type": "execute_result"
    }
   ],
   "source": [
    "origInd = [2, 3, 4, 5]\n",
    "np.stack(np.meshgrid(*[np.arange(x) for x in origInd]), axis=len(origInd))"
   ]
  },
  {
   "cell_type": "code",
   "execution_count": 41,
   "metadata": {},
   "outputs": [
    {
     "name": "stdout",
     "output_type": "stream",
     "text": [
      "A.foo\n",
      "B.foo\n",
      "A.foo\n"
     ]
    }
   ],
   "source": [
    "class A(object):\n",
    "    def foo(self):\n",
    "        print('A.foo') \n",
    "    def bar(self):\n",
    "        self.foo()                  \n",
    "\n",
    "class B(A):      \n",
    "    def foo(self):\n",
    "        print('B.foo')\n",
    "        super(B, self).foo()\n",
    "\n",
    "a = A()                \n",
    "a.bar()                   # echoes A.foo\n",
    "b = B()\n",
    "b.bar()                   # echoes B.foo"
   ]
  },
  {
   "cell_type": "code",
   "execution_count": null,
   "metadata": {
    "collapsed": true
   },
   "outputs": [],
   "source": []
  }
 ],
 "metadata": {
  "kernelspec": {
   "display_name": "Python 3",
   "language": "python",
   "name": "python3"
  },
  "language_info": {
   "codemirror_mode": {
    "name": "ipython",
    "version": 3
   },
   "file_extension": ".py",
   "mimetype": "text/x-python",
   "name": "python",
   "nbconvert_exporter": "python",
   "pygments_lexer": "ipython3",
   "version": "3.5.3"
  }
 },
 "nbformat": 4,
 "nbformat_minor": 2
}
