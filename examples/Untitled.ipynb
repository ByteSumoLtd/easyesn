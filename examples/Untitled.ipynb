{
 "cells": [
  {
   "cell_type": "code",
   "execution_count": 1,
   "metadata": {
    "collapsed": true
   },
   "outputs": [],
   "source": [
    "import numpy as np\n",
    "\n",
    "# some_file.py\n",
    "import sys\n",
    "sys.path.insert(0, '../src/easyesn/')"
   ]
  },
  {
   "cell_type": "code",
   "execution_count": 2,
   "metadata": {},
   "outputs": [
    {
     "name": "stderr",
     "output_type": "stream",
     "text": [
      "Using Numpy backend.\n"
     ]
    }
   ],
   "source": [
    "from easyesn import SpatioTemporalESN\n",
    "from easyesn.optimizers import GridSearchOptimizer\n",
    "from easyesn import helper as hlp\n",
    "import matplotlib.pyplot as plt\n",
    "\n",
    "from scipy.ndimage.filters import convolve"
   ]
  },
  {
   "cell_type": "code",
   "execution_count": 3,
   "metadata": {},
   "outputs": [],
   "source": [
    "inputLength = 500\n",
    "size = 25\n",
    "data = np.linspace(0, 20*np.pi, inputLength)\n",
    "data = np.tile(data, size*size).reshape(-1, size, size)\n",
    "\n",
    "freq1 = np.random.rand(size, size)*2 \n",
    "freq2 = np.random.rand(size, size)*2 \n",
    "\n",
    "freq1 = np.tile(freq1, inputLength).reshape(-1, size, size)\n",
    "freq2 = np.tile(freq2, inputLength).reshape(-1, size, size)\n",
    "\n",
    "inputData = np.sin(freq1*data).reshape(-1, size, size)\n",
    "outputData = np.cos(freq2*data).reshape(-1, size, size)\n",
    "\n",
    "filter1 = np.array([[-1,-1,-1],\n",
    "                   [-1,9,-1],\n",
    "                   [-1,-1,-1]])/9.0\n",
    "\n",
    "for i in range(inputLength):\n",
    "    outputData[i, :, :] = convolve(outputData[i, :, :], filter1)\n",
    "\n",
    "trainingInput = inputData[:int(inputLength*0.7)]\n",
    "validationInput = inputData[int(inputLength*0.3):]\n",
    "\n",
    "trainingOutput = outputData[:int(inputLength*0.7)]\n",
    "validationOutput = outputData[int(inputLength*0.3):]"
   ]
  },
  {
   "cell_type": "code",
   "execution_count": 4,
   "metadata": {},
   "outputs": [],
   "source": [
    "esn = SpatioTemporalESN(inputShape=(100, 100), filterSize=3, stride=1, borderMode=\"mirror\", averageOutputWeights=True,\n",
    "                        n_reservoir=100, regression_parameters=[1e-2], leakingRate=0.2, spectralRadius=0.8, solver=\"lsqr\")"
   ]
  },
  {
   "cell_type": "code",
   "execution_count": 5,
   "metadata": {
    "scrolled": true
   },
   "outputs": [],
   "source": [
    "esn.fit(trainingInput, trainingOutput, transientTime=100, verbose=1)"
   ]
  },
  {
   "cell_type": "code",
   "execution_count": null,
   "metadata": {
    "collapsed": true
   },
   "outputs": [],
   "source": [
    "pred = esn.predict(validationInput)"
   ]
  },
  {
   "cell_type": "code",
   "execution_count": null,
   "metadata": {
    "collapsed": true
   },
   "outputs": [],
   "source": [
    "plt.plot(validationOutput)\n",
    "plt.plot(pred)\n",
    "plt.show()"
   ]
  },
  {
   "cell_type": "code",
   "execution_count": null,
   "metadata": {
    "collapsed": true
   },
   "outputs": [],
   "source": [
    "opt = GradientOptimizer(esn, learningRate=0.001)\n",
    "validationLosses, fitLosses, spectralRadiuses, leakingRates, inputScalings = opt.optimizeParameterForTrainError(trainingInput, trainingOutput, validationInput, validationOutput, epochs=150, transientTime=100)"
   ]
  },
  {
   "cell_type": "code",
   "execution_count": null,
   "metadata": {
    "collapsed": true
   },
   "outputs": [],
   "source": [
    "plt.plot(fitLosses)\n",
    "plt.show()\n",
    "plt.plot(spectralRadiuses)\n",
    "plt.show()\n",
    "plt.plot(leakingRates)\n",
    "plt.show()\n",
    "plt.plot(inputScalings)\n",
    "plt.show()"
   ]
  },
  {
   "cell_type": "code",
   "execution_count": null,
   "metadata": {
    "collapsed": true
   },
   "outputs": [],
   "source": []
  },
  {
   "cell_type": "code",
   "execution_count": null,
   "metadata": {
    "collapsed": true
   },
   "outputs": [],
   "source": [
    "dd = [100, 2,3]\n",
    "np.stack(np.meshgrid(*[np.arange(x) for x in dd[1:]]), axis=len(dd)-1).reshape(-1, len(dd)-1).tolist()"
   ]
  },
  {
   "cell_type": "code",
   "execution_count": null,
   "metadata": {
    "collapsed": true
   },
   "outputs": [],
   "source": [
    "from multiprocess import Pool, current_process\n",
    "\n",
    "def func123(x):\n",
    "    from multiprocess import current_process\n",
    "    print(current_process().pid)\n",
    "    return x"
   ]
  },
  {
   "cell_type": "code",
   "execution_count": null,
   "metadata": {
    "collapsed": true
   },
   "outputs": [],
   "source": [
    "p = Pool()\n",
    "print(p.map(func123, range(100)))\n",
    "p.close()"
   ]
  },
  {
   "cell_type": "code",
   "execution_count": null,
   "metadata": {
    "collapsed": true
   },
   "outputs": [],
   "source": [
    "a = list(range(10))\n",
    "a.pop(0)\n",
    "a"
   ]
  },
  {
   "cell_type": "code",
   "execution_count": null,
   "metadata": {},
   "outputs": [],
   "source": [
    "np.arange(10)[::1]"
   ]
  },
  {
   "cell_type": "code",
   "execution_count": null,
   "metadata": {},
   "outputs": [],
   "source": [
    "np.mean(np.arange(3*5*20).reshape(3,5,20), axis=0).shape"
   ]
  },
  {
   "cell_type": "code",
   "execution_count": null,
   "metadata": {
    "collapsed": true
   },
   "outputs": [],
   "source": []
  }
 ],
 "metadata": {
  "kernelspec": {
   "display_name": "Python 3",
   "language": "python",
   "name": "python3"
  },
  "language_info": {
   "codemirror_mode": {
    "name": "ipython",
    "version": 3
   },
   "file_extension": ".py",
   "mimetype": "text/x-python",
   "name": "python",
   "nbconvert_exporter": "python",
   "pygments_lexer": "ipython3",
   "version": "3.6.3"
  }
 },
 "nbformat": 4,
 "nbformat_minor": 2
}
