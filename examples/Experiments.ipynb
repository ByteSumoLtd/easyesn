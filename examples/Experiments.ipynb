{
 "cells": [
  {
   "cell_type": "code",
   "execution_count": null,
   "metadata": {
    "ExecuteTime": {
     "end_time": "2017-10-12T15:25:19.774181Z",
     "start_time": "2017-10-12T15:25:19.644292Z"
    },
    "collapsed": true
   },
   "outputs": [],
   "source": [
    "import numpy as np\n",
    "\n",
    "# some_file.py\n",
    "import sys\n",
    "sys.path.insert(0, '../src/easyesn/')"
   ]
  },
  {
   "cell_type": "code",
   "execution_count": 2,
   "metadata": {
    "ExecuteTime": {
     "end_time": "2017-10-12T15:25:21.518216Z",
     "start_time": "2017-10-12T15:25:20.629081Z"
    },
    "collapsed": false
   },
   "outputs": [
    {
     "name": "stderr",
     "output_type": "stream",
     "text": [
      "Using Numpy backend.\n"
     ]
    }
   ],
   "source": [
    "from easyesn import ESNOptimizer\n",
    "from easyesn import PredictionESN\n",
    "from easyesn import GridSearchOptimizer\n",
    "from easyesn import helper as hlp\n",
    "import matplotlib.pyplot as plt\n"
   ]
  },
  {
   "cell_type": "code",
   "execution_count": 3,
   "metadata": {
    "ExecuteTime": {
     "end_time": "2017-10-12T15:25:22.138101Z",
     "start_time": "2017-10-12T15:25:22.126590Z"
    },
    "collapsed": true
   },
   "outputs": [],
   "source": [
    "inputLength = 1000\n",
    "data = np.sin(np.linspace(0, 4*np.pi, inputLength)).reshape(-1,1)\n",
    "targetData = np.roll(data, -1)\n",
    "\n",
    "inputData = data[:int(inputLength*0.7)]\n",
    "validationData = data[int(inputLength*0.3):]\n",
    "\n",
    "inputTarget = targetData[:int(inputLength*0.7)]\n",
    "validationTarget = targetData[int(inputLength*0.3):]"
   ]
  },
  {
   "cell_type": "code",
   "execution_count": 7,
   "metadata": {
    "ExecuteTime": {
     "end_time": "2017-10-12T15:25:23.232734Z",
     "start_time": "2017-10-12T15:25:23.217725Z"
    },
    "collapsed": true
   },
   "outputs": [],
   "source": [
    "esn = PredictionESN(n_input=1, n_output=1, n_reservoir=50, regression_parameters=[1e-2], solver=\"lsqr\")"
   ]
  },
  {
   "cell_type": "code",
   "execution_count": 8,
   "metadata": {
    "ExecuteTime": {
     "end_time": "2017-10-12T15:25:24.332523Z",
     "start_time": "2017-10-12T15:25:24.327520Z"
    },
    "collapsed": false
   },
   "outputs": [
    {
     "ename": "ValueError",
     "evalue": "Noise must be set to 0.0 for this optimizer, but it is set to 0.01.",
     "output_type": "error",
     "traceback": [
      "\u001b[0;31m---------------------------------------------------------------------------\u001b[0m",
      "\u001b[0;31mValueError\u001b[0m                                Traceback (most recent call last)",
      "\u001b[0;32m<ipython-input-8-f65285a46c1a>\u001b[0m in \u001b[0;36m<module>\u001b[0;34m()\u001b[0m\n\u001b[0;32m----> 1\u001b[0;31m \u001b[0mopt\u001b[0m \u001b[1;33m=\u001b[0m \u001b[0mESNOptimizer\u001b[0m\u001b[1;33m(\u001b[0m\u001b[0mesn\u001b[0m\u001b[1;33m)\u001b[0m\u001b[1;33m\u001b[0m\u001b[0m\n\u001b[0m",
      "\u001b[0;32mC:\\Users\\Roland\\Source\\Repos\\reservoir-computing\\src\\easyesn\\easyesn\\ESNOptimizer.py\u001b[0m in \u001b[0;36m__init__\u001b[0;34m(self, reservoir)\u001b[0m\n\u001b[1;32m     14\u001b[0m     \u001b[1;32mdef\u001b[0m \u001b[0m__init__\u001b[0m\u001b[1;33m(\u001b[0m\u001b[0mself\u001b[0m\u001b[1;33m,\u001b[0m \u001b[0mreservoir\u001b[0m\u001b[1;33m)\u001b[0m\u001b[1;33m:\u001b[0m\u001b[1;33m\u001b[0m\u001b[0m\n\u001b[1;32m     15\u001b[0m         \u001b[0mself\u001b[0m\u001b[1;33m.\u001b[0m\u001b[0m_reservoir\u001b[0m \u001b[1;33m=\u001b[0m \u001b[0mreservoir\u001b[0m\u001b[1;33m\u001b[0m\u001b[0m\n\u001b[0;32m---> 16\u001b[0;31m         \u001b[0mself\u001b[0m\u001b[1;33m.\u001b[0m\u001b[0m_validateReservoir\u001b[0m\u001b[1;33m(\u001b[0m\u001b[1;33m)\u001b[0m\u001b[1;33m\u001b[0m\u001b[0m\n\u001b[0m\u001b[1;32m     17\u001b[0m \u001b[1;33m\u001b[0m\u001b[0m\n\u001b[1;32m     18\u001b[0m     \u001b[1;31m####################################################################################################################################################\u001b[0m\u001b[1;33m\u001b[0m\u001b[1;33m\u001b[0m\u001b[0m\n",
      "\u001b[0;32mC:\\Users\\Roland\\Source\\Repos\\reservoir-computing\\src\\easyesn\\easyesn\\ESNOptimizer.py\u001b[0m in \u001b[0;36m_validateReservoir\u001b[0;34m(self)\u001b[0m\n\u001b[1;32m      8\u001b[0m     \u001b[1;32mdef\u001b[0m \u001b[0m_validateReservoir\u001b[0m\u001b[1;33m(\u001b[0m\u001b[0mself\u001b[0m\u001b[1;33m)\u001b[0m\u001b[1;33m:\u001b[0m\u001b[1;33m\u001b[0m\u001b[0m\n\u001b[1;32m      9\u001b[0m         \u001b[1;32mif\u001b[0m \u001b[1;32mnot\u001b[0m \u001b[0mnp\u001b[0m\u001b[1;33m.\u001b[0m\u001b[0misclose\u001b[0m\u001b[1;33m(\u001b[0m\u001b[0mself\u001b[0m\u001b[1;33m.\u001b[0m\u001b[0m_reservoir\u001b[0m\u001b[1;33m.\u001b[0m\u001b[0mnoise_level\u001b[0m\u001b[1;33m,\u001b[0m \u001b[1;36m0.0\u001b[0m\u001b[1;33m)\u001b[0m\u001b[1;33m:\u001b[0m\u001b[1;33m\u001b[0m\u001b[0m\n\u001b[0;32m---> 10\u001b[0;31m             \u001b[1;32mraise\u001b[0m \u001b[0mValueError\u001b[0m\u001b[1;33m(\u001b[0m\u001b[1;34m\"Noise must be set to 0.0 for this optimizer, but it is set to {0}.\"\u001b[0m\u001b[1;33m.\u001b[0m\u001b[0mformat\u001b[0m\u001b[1;33m(\u001b[0m\u001b[0mself\u001b[0m\u001b[1;33m.\u001b[0m\u001b[0m_reservoir\u001b[0m\u001b[1;33m.\u001b[0m\u001b[0mnoise_level\u001b[0m\u001b[1;33m)\u001b[0m\u001b[1;33m)\u001b[0m\u001b[1;33m\u001b[0m\u001b[0m\n\u001b[0m\u001b[1;32m     11\u001b[0m         \u001b[1;32mif\u001b[0m \u001b[0mself\u001b[0m\u001b[1;33m.\u001b[0m\u001b[0m_reservoir\u001b[0m\u001b[1;33m.\u001b[0m\u001b[0m_solver\u001b[0m \u001b[1;32mis\u001b[0m \u001b[1;32mnot\u001b[0m \u001b[1;34m\"lsqr\"\u001b[0m\u001b[1;33m:\u001b[0m\u001b[1;33m\u001b[0m\u001b[0m\n\u001b[1;32m     12\u001b[0m             \u001b[1;32mraise\u001b[0m \u001b[0mValueError\u001b[0m\u001b[1;33m(\u001b[0m\u001b[1;34m\"The reservoir's solver must be set to 'lsqr' (Ridge Regression) for this optimizer.\"\u001b[0m\u001b[1;33m)\u001b[0m\u001b[1;33m\u001b[0m\u001b[0m\n",
      "\u001b[0;31mValueError\u001b[0m: Noise must be set to 0.0 for this optimizer, but it is set to 0.01."
     ]
    }
   ],
   "source": [
    "opt = ESNOptimizer(esn)"
   ]
  },
  {
   "cell_type": "code",
   "execution_count": 6,
   "metadata": {
    "ExecuteTime": {
     "end_time": "2017-10-12T15:28:28.221853Z",
     "start_time": "2017-10-12T15:28:19.290823Z"
    },
    "collapsed": false,
    "scrolled": true
   },
   "outputs": [
    {
     "name": "stderr",
     "output_type": "stream",
     "text": [
      "100% (20 of 20) |######################################################################################################################################################################################| Elapsed Time: 0:00:06 Time: 0:00:06\n"
     ]
    }
   ],
   "source": [
    "validationLosses, fitLosses, spectralRadiuses, leakingRates, inputScalings = opt.optimizeParameterForTrainError(inputData, inputTarget, validationData, validationTarget, learningRate=0.03,transientTime = 100, epochs=20)"
   ]
  },
  {
   "cell_type": "code",
   "execution_count": null,
   "metadata": {
    "ExecuteTime": {
     "end_time": "2017-10-12T15:28:32.015665Z",
     "start_time": "2017-10-12T15:28:31.335836Z"
    },
    "collapsed": false
   },
   "outputs": [],
   "source": [
    "plt.plot(fitLosses)\n",
    "plt.show()\n",
    "plt.plot(spectralRadiuses)\n",
    "plt.show()\n",
    "plt.plot(leakingRates)\n",
    "plt.show()\n",
    "plt.plot(inputScalings)\n",
    "plt.show()\n"
   ]
  },
  {
   "cell_type": "code",
   "execution_count": null,
   "metadata": {
    "ExecuteTime": {
     "end_time": "2017-10-12T15:33:34.581748Z",
     "start_time": "2017-10-12T15:33:34.563606Z"
    },
    "collapsed": true
   },
   "outputs": [],
   "source": [
    "from easyesn import MinimalReservoirExample\n",
    "reservoir = MinimalReservoirExample.Reservoir(1,1,25, density=1, spectralRadius=0.76, leakingRate=1.09, inputScaling=0.1, transientTime=transientTime)\n",
    "print(\"#################################################\")\n",
    "evaLoss, fitLoss, evaLosses, fitLosses, inputScalings, leakingRates, spectralRadiuses = reservoir.optimizeParameterForTrainError(inputData, inputTarget, inputData.shape[0], learningRate = 0.02, epochs = 100, errorEvaluationLength=inputLength*0.3, penalty=1e-2)\n",
    "#evaLoss, fitLoss, evaLosses, fitLosses, inputScalings, leakingRates, spectralRadiuses = reservoir.optimizeParameterForEvaluationError(data, targetData, trainTime, evaTime, epochs = 30, learningRate = 0.01, penalty=penalty)\n"
   ]
  },
  {
   "cell_type": "code",
   "execution_count": null,
   "metadata": {
    "ExecuteTime": {
     "end_time": "2017-10-12T15:25:00.804842Z",
     "start_time": "2017-10-12T15:24:49.626Z"
    },
    "collapsed": true
   },
   "outputs": [],
   "source": [
    "param_grid = {\"leakingRate\": np.linspace(0.01,1.2, 10), \"spectralRadius\":np.linspace(0.01,1.2,10)}\n",
    "fixed_params = {\"n_reservoir\":50, \"n_input\":1, \"n_output\":1}\n",
    "gopt = GridSearchOptimizer(param_grid, fixed_params, PredictionESN)\n",
    "results = gopt.fit(inputData, inputTarget, [(validationData, validationTarget)])"
   ]
  },
  {
   "cell_type": "code",
   "execution_count": null,
   "metadata": {
    "ExecuteTime": {
     "end_time": "2017-10-12T15:25:00.805842Z",
     "start_time": "2017-10-12T15:24:49.628Z"
    },
    "collapsed": true
   },
   "outputs": [],
   "source": [
    "plt.imshow(results)\n",
    "plt.show()"
   ]
  },
  {
   "cell_type": "code",
   "execution_count": null,
   "metadata": {
    "ExecuteTime": {
     "end_time": "2017-10-12T15:25:00.807344Z",
     "start_time": "2017-10-12T15:24:49.631Z"
    },
    "collapsed": true
   },
   "outputs": [],
   "source": [
    "def generateGrid(reservoir, N, fromSpectralR, tillSpectralR, fromLeakyR, tillLeakyR, transientTime, trainInputs, trainTargets, validationInputs, validationTargets):\n",
    "    grid1 = np.zeros((N,N))\n",
    "    grid2 = np.zeros((N,N))\n",
    "    widthSprctralRadius = (tillSpectralR - fromSpectralR)/N\n",
    "    widthLeakingRate = (tillLeakyR - fromLeakyR)/N\n",
    "    for i in range(N):\n",
    "        sR = i*widthSprctralRadius + fromSpectralR\n",
    "        reservoir.setSpectralRadius(sR)\n",
    "        for j in range(N):\n",
    "            lR = j*widthLeakingRate + fromLeakyR\n",
    "            reservoir.setLeakingRate(lR)\n",
    "            \n",
    "            grid1[i,j] = reservoir.fit(trainInputs, trainTargets, transientTime=transientTime)\n",
    "            grid2[i,j] = hlp.loss( reservoir.predict(validationInputs), validationTargets )\n",
    "\n",
    "    return grid1, grid2"
   ]
  },
  {
   "cell_type": "code",
   "execution_count": null,
   "metadata": {
    "ExecuteTime": {
     "end_time": "2017-10-12T15:25:00.808345Z",
     "start_time": "2017-10-12T15:24:49.633Z"
    },
    "collapsed": true
   },
   "outputs": [],
   "source": [
    "grid1, grid2 = generateGrid(esn, 10, 0.1, 1.2, 0.1, 1.2, 100, inputData, inputTarget, validationData, validationTarget)"
   ]
  },
  {
   "cell_type": "code",
   "execution_count": null,
   "metadata": {
    "ExecuteTime": {
     "end_time": "2017-10-12T15:25:00.809345Z",
     "start_time": "2017-10-12T15:24:49.635Z"
    },
    "collapsed": true
   },
   "outputs": [],
   "source": [
    "plt.imshow(grid1)\n",
    "plt.show()"
   ]
  },
  {
   "cell_type": "code",
   "execution_count": null,
   "metadata": {
    "collapsed": false
   },
   "outputs": [],
   "source": [
    "class A(object):\n",
    "    @staticmethod\n",
    "    def a():\n",
    "        print(\"a\")\n",
    "        \n",
    "    def b(self):\n",
    "        print(\"b\")\n",
    "        A.a()\n",
    "aa = A()\n",
    "aa.b()"
   ]
  },
  {
   "cell_type": "code",
   "execution_count": null,
   "metadata": {
    "collapsed": true
   },
   "outputs": [],
   "source": []
  }
 ],
 "metadata": {
  "anaconda-cloud": {},
  "kernelspec": {
   "display_name": "Python [default]",
   "language": "python",
   "name": "python3"
  },
  "language_info": {
   "codemirror_mode": {
    "name": "ipython",
    "version": 3
   },
   "file_extension": ".py",
   "mimetype": "text/x-python",
   "name": "python",
   "nbconvert_exporter": "python",
   "pygments_lexer": "ipython3",
   "version": "3.5.2"
  },
  "varInspector": {
   "cols": {
    "lenName": 16,
    "lenType": 16,
    "lenVar": 40
   },
   "kernels_config": {
    "python": {
     "delete_cmd_postfix": "",
     "delete_cmd_prefix": "del ",
     "library": "var_list.py",
     "varRefreshCmd": "print(var_dic_list())"
    },
    "r": {
     "delete_cmd_postfix": ") ",
     "delete_cmd_prefix": "rm(",
     "library": "var_list.r",
     "varRefreshCmd": "cat(var_dic_list()) "
    }
   },
   "types_to_exclude": [
    "module",
    "function",
    "builtin_function_or_method",
    "instance",
    "_Feature"
   ],
   "window_display": false
  }
 },
 "nbformat": 4,
 "nbformat_minor": 2
}
